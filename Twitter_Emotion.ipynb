{
  "nbformat": 4,
  "nbformat_minor": 0,
  "metadata": {
    "colab": {
      "name": "Submission_NLP_Dicoding.ipynb",
      "provenance": [],
      "collapsed_sections": []
    },
    "kernelspec": {
      "name": "python3",
      "display_name": "Python 3"
    },
    "language_info": {
      "name": "python"
    },
    "accelerator": "GPU",
    "gpuClass": "standard"
  },
  "cells": [
    {
      "cell_type": "code",
      "source": [
        "from google.colab import drive\n",
        "drive.mount('/content/drive')"
      ],
      "metadata": {
        "colab": {
          "base_uri": "https://localhost:8080/"
        },
        "id": "nU1MVUt52mU9",
        "outputId": "7298322f-a47a-452b-b33e-19a30346577a"
      },
      "execution_count": 1,
      "outputs": [
        {
          "output_type": "stream",
          "name": "stdout",
          "text": [
            "Mounted at /content/drive\n"
          ]
        }
      ]
    },
    {
      "cell_type": "code",
      "execution_count": 2,
      "metadata": {
        "id": "7SM151WeiNPk",
        "colab": {
          "base_uri": "https://localhost:8080/",
          "height": 354
        },
        "outputId": "2320f86d-3714-4949-9579-df2bf33fc9fb"
      },
      "outputs": [
        {
          "output_type": "stream",
          "name": "stdout",
          "text": [
            "/content/drive/MyDrive/Dicoding_Machine_Learning_2/Submission1\n"
          ]
        },
        {
          "output_type": "stream",
          "name": "stderr",
          "text": [
            "/usr/local/lib/python3.7/dist-packages/ipykernel_launcher.py:14: FutureWarning: The default value of regex will change from True to False in a future version. In addition, single character regular expressions will *not* be treated as literal strings when regex=True.\n",
            "  \n",
            "/usr/local/lib/python3.7/dist-packages/ipykernel_launcher.py:15: FutureWarning: The default value of regex will change from True to False in a future version. In addition, single character regular expressions will *not* be treated as literal strings when regex=True.\n",
            "  from ipykernel import kernelapp as app\n",
            "/usr/local/lib/python3.7/dist-packages/ipykernel_launcher.py:18: FutureWarning: The default value of regex will change from True to False in a future version. In addition, single character regular expressions will *not* be treated as literal strings when regex=True.\n",
            "/usr/local/lib/python3.7/dist-packages/ipykernel_launcher.py:20: FutureWarning: The default value of regex will change from True to False in a future version. In addition, single character regular expressions will *not* be treated as literal strings when regex=True.\n"
          ]
        },
        {
          "output_type": "execute_result",
          "data": {
            "text/plain": [
              "                                                Text  Emotion\n",
              "0                            i didnt feel humiliated  sadness\n",
              "1  i can go from feeling so hopeless to so damned...  sadness\n",
              "2   im grabbing a minute to post i feel greedy wrong    anger\n",
              "3  i am ever feeling nostalgic about the fireplac...     love\n",
              "4                               i am feeling grouchy    anger"
            ],
            "text/html": [
              "\n",
              "  <div id=\"df-3470d475-f082-40b9-8484-21ccbfde5b49\">\n",
              "    <div class=\"colab-df-container\">\n",
              "      <div>\n",
              "<style scoped>\n",
              "    .dataframe tbody tr th:only-of-type {\n",
              "        vertical-align: middle;\n",
              "    }\n",
              "\n",
              "    .dataframe tbody tr th {\n",
              "        vertical-align: top;\n",
              "    }\n",
              "\n",
              "    .dataframe thead th {\n",
              "        text-align: right;\n",
              "    }\n",
              "</style>\n",
              "<table border=\"1\" class=\"dataframe\">\n",
              "  <thead>\n",
              "    <tr style=\"text-align: right;\">\n",
              "      <th></th>\n",
              "      <th>Text</th>\n",
              "      <th>Emotion</th>\n",
              "    </tr>\n",
              "  </thead>\n",
              "  <tbody>\n",
              "    <tr>\n",
              "      <th>0</th>\n",
              "      <td>i didnt feel humiliated</td>\n",
              "      <td>sadness</td>\n",
              "    </tr>\n",
              "    <tr>\n",
              "      <th>1</th>\n",
              "      <td>i can go from feeling so hopeless to so damned...</td>\n",
              "      <td>sadness</td>\n",
              "    </tr>\n",
              "    <tr>\n",
              "      <th>2</th>\n",
              "      <td>im grabbing a minute to post i feel greedy wrong</td>\n",
              "      <td>anger</td>\n",
              "    </tr>\n",
              "    <tr>\n",
              "      <th>3</th>\n",
              "      <td>i am ever feeling nostalgic about the fireplac...</td>\n",
              "      <td>love</td>\n",
              "    </tr>\n",
              "    <tr>\n",
              "      <th>4</th>\n",
              "      <td>i am feeling grouchy</td>\n",
              "      <td>anger</td>\n",
              "    </tr>\n",
              "  </tbody>\n",
              "</table>\n",
              "</div>\n",
              "      <button class=\"colab-df-convert\" onclick=\"convertToInteractive('df-3470d475-f082-40b9-8484-21ccbfde5b49')\"\n",
              "              title=\"Convert this dataframe to an interactive table.\"\n",
              "              style=\"display:none;\">\n",
              "        \n",
              "  <svg xmlns=\"http://www.w3.org/2000/svg\" height=\"24px\"viewBox=\"0 0 24 24\"\n",
              "       width=\"24px\">\n",
              "    <path d=\"M0 0h24v24H0V0z\" fill=\"none\"/>\n",
              "    <path d=\"M18.56 5.44l.94 2.06.94-2.06 2.06-.94-2.06-.94-.94-2.06-.94 2.06-2.06.94zm-11 1L8.5 8.5l.94-2.06 2.06-.94-2.06-.94L8.5 2.5l-.94 2.06-2.06.94zm10 10l.94 2.06.94-2.06 2.06-.94-2.06-.94-.94-2.06-.94 2.06-2.06.94z\"/><path d=\"M17.41 7.96l-1.37-1.37c-.4-.4-.92-.59-1.43-.59-.52 0-1.04.2-1.43.59L10.3 9.45l-7.72 7.72c-.78.78-.78 2.05 0 2.83L4 21.41c.39.39.9.59 1.41.59.51 0 1.02-.2 1.41-.59l7.78-7.78 2.81-2.81c.8-.78.8-2.07 0-2.86zM5.41 20L4 18.59l7.72-7.72 1.47 1.35L5.41 20z\"/>\n",
              "  </svg>\n",
              "      </button>\n",
              "      \n",
              "  <style>\n",
              "    .colab-df-container {\n",
              "      display:flex;\n",
              "      flex-wrap:wrap;\n",
              "      gap: 12px;\n",
              "    }\n",
              "\n",
              "    .colab-df-convert {\n",
              "      background-color: #E8F0FE;\n",
              "      border: none;\n",
              "      border-radius: 50%;\n",
              "      cursor: pointer;\n",
              "      display: none;\n",
              "      fill: #1967D2;\n",
              "      height: 32px;\n",
              "      padding: 0 0 0 0;\n",
              "      width: 32px;\n",
              "    }\n",
              "\n",
              "    .colab-df-convert:hover {\n",
              "      background-color: #E2EBFA;\n",
              "      box-shadow: 0px 1px 2px rgba(60, 64, 67, 0.3), 0px 1px 3px 1px rgba(60, 64, 67, 0.15);\n",
              "      fill: #174EA6;\n",
              "    }\n",
              "\n",
              "    [theme=dark] .colab-df-convert {\n",
              "      background-color: #3B4455;\n",
              "      fill: #D2E3FC;\n",
              "    }\n",
              "\n",
              "    [theme=dark] .colab-df-convert:hover {\n",
              "      background-color: #434B5C;\n",
              "      box-shadow: 0px 1px 3px 1px rgba(0, 0, 0, 0.15);\n",
              "      filter: drop-shadow(0px 1px 2px rgba(0, 0, 0, 0.3));\n",
              "      fill: #FFFFFF;\n",
              "    }\n",
              "  </style>\n",
              "\n",
              "      <script>\n",
              "        const buttonEl =\n",
              "          document.querySelector('#df-3470d475-f082-40b9-8484-21ccbfde5b49 button.colab-df-convert');\n",
              "        buttonEl.style.display =\n",
              "          google.colab.kernel.accessAllowed ? 'block' : 'none';\n",
              "\n",
              "        async function convertToInteractive(key) {\n",
              "          const element = document.querySelector('#df-3470d475-f082-40b9-8484-21ccbfde5b49');\n",
              "          const dataTable =\n",
              "            await google.colab.kernel.invokeFunction('convertToInteractive',\n",
              "                                                     [key], {});\n",
              "          if (!dataTable) return;\n",
              "\n",
              "          const docLinkHtml = 'Like what you see? Visit the ' +\n",
              "            '<a target=\"_blank\" href=https://colab.research.google.com/notebooks/data_table.ipynb>data table notebook</a>'\n",
              "            + ' to learn more about interactive tables.';\n",
              "          element.innerHTML = '';\n",
              "          dataTable['output_type'] = 'display_data';\n",
              "          await google.colab.output.renderOutput(dataTable, element);\n",
              "          const docLink = document.createElement('div');\n",
              "          docLink.innerHTML = docLinkHtml;\n",
              "          element.appendChild(docLink);\n",
              "        }\n",
              "      </script>\n",
              "    </div>\n",
              "  </div>\n",
              "  "
            ]
          },
          "metadata": {},
          "execution_count": 2
        }
      ],
      "source": [
        "#Submission Neural Language Processing\n",
        "#Muhammad Iodine Hanifan Firdaus\n",
        "\n",
        "%cd /content/drive/MyDrive/Dicoding_Machine_Learning_2/Submission1\n",
        "\n",
        "import pandas as pd\n",
        "df = pd.read_csv('Emotion_final.csv')\n",
        "df = df[['Text', 'Emotion']]\n",
        "df['Text'] = df['Text'].str.replace('/','')\n",
        "df['Text'] = df['Text'].str.replace('â€™','')\n",
        "df['Text'] = df['Text'].str.replace('nn','')\n",
        "df['Text'] = df['Text'].str.replace('    ','')\n",
        "df['Text'] = df['Text'].str.replace('\\'','')\n",
        "df['Text'] = df['Text'].str.replace('(','')\n",
        "df['Text'] = df['Text'].str.replace(')','')\n",
        "df['Text'] = df['Text'].str.replace(':','')\n",
        "df['Text'] = df['Text'].str.replace('\\r',' ')\n",
        "df['Text'] = df['Text'].str.replace('\\\\','')\n",
        "df['Text'] = df['Text'].str.replace('Ã','')\n",
        "df['Text'] = df['Text'].str.replace('*','')\n",
        "df['Text'] = df['Text'].str.replace('©','')\n",
        "df['Text'] = df['Text'].str.replace('Â','')\n",
        "df.head()"
      ]
    },
    {
      "cell_type": "code",
      "source": [
        "category = pd.get_dummies(df.Emotion)\n",
        "df_baru = pd.concat([df, category], axis=1)\n",
        "df_baru = df_baru.drop(columns='Emotion')\n",
        "df_baru"
      ],
      "metadata": {
        "colab": {
          "base_uri": "https://localhost:8080/",
          "height": 424
        },
        "id": "cssVvwXAtF7g",
        "outputId": "045d5a11-48b1-43d8-a1c5-003965d806e3"
      },
      "execution_count": 3,
      "outputs": [
        {
          "output_type": "execute_result",
          "data": {
            "text/plain": [
              "                                                    Text  anger  fear  happy  \\\n",
              "0                                i didnt feel humiliated      0     0      0   \n",
              "1      i can go from feeling so hopeless to so damned...      0     0      0   \n",
              "2       im grabbing a minute to post i feel greedy wrong      1     0      0   \n",
              "3      i am ever feeling nostalgic about the fireplac...      0     0      0   \n",
              "4                                   i am feeling grouchy      1     0      0   \n",
              "...                                                  ...    ...   ...    ...   \n",
              "21454               Melissa stared at her friend in dism      0     1      0   \n",
              "21455  Successive state elections have seen the gover...      0     1      0   \n",
              "21456               Vincent was irritated but not dismay      0     1      0   \n",
              "21457  Kendall-Hume turned back to face the dismayed ...      0     1      0   \n",
              "21458                    I am dismayed , but not surpris      0     1      0   \n",
              "\n",
              "       love  sadness  surprise  \n",
              "0         0        1         0  \n",
              "1         0        1         0  \n",
              "2         0        0         0  \n",
              "3         1        0         0  \n",
              "4         0        0         0  \n",
              "...     ...      ...       ...  \n",
              "21454     0        0         0  \n",
              "21455     0        0         0  \n",
              "21456     0        0         0  \n",
              "21457     0        0         0  \n",
              "21458     0        0         0  \n",
              "\n",
              "[21459 rows x 7 columns]"
            ],
            "text/html": [
              "\n",
              "  <div id=\"df-368c698e-9202-4c19-9fef-4327b22bc7ec\">\n",
              "    <div class=\"colab-df-container\">\n",
              "      <div>\n",
              "<style scoped>\n",
              "    .dataframe tbody tr th:only-of-type {\n",
              "        vertical-align: middle;\n",
              "    }\n",
              "\n",
              "    .dataframe tbody tr th {\n",
              "        vertical-align: top;\n",
              "    }\n",
              "\n",
              "    .dataframe thead th {\n",
              "        text-align: right;\n",
              "    }\n",
              "</style>\n",
              "<table border=\"1\" class=\"dataframe\">\n",
              "  <thead>\n",
              "    <tr style=\"text-align: right;\">\n",
              "      <th></th>\n",
              "      <th>Text</th>\n",
              "      <th>anger</th>\n",
              "      <th>fear</th>\n",
              "      <th>happy</th>\n",
              "      <th>love</th>\n",
              "      <th>sadness</th>\n",
              "      <th>surprise</th>\n",
              "    </tr>\n",
              "  </thead>\n",
              "  <tbody>\n",
              "    <tr>\n",
              "      <th>0</th>\n",
              "      <td>i didnt feel humiliated</td>\n",
              "      <td>0</td>\n",
              "      <td>0</td>\n",
              "      <td>0</td>\n",
              "      <td>0</td>\n",
              "      <td>1</td>\n",
              "      <td>0</td>\n",
              "    </tr>\n",
              "    <tr>\n",
              "      <th>1</th>\n",
              "      <td>i can go from feeling so hopeless to so damned...</td>\n",
              "      <td>0</td>\n",
              "      <td>0</td>\n",
              "      <td>0</td>\n",
              "      <td>0</td>\n",
              "      <td>1</td>\n",
              "      <td>0</td>\n",
              "    </tr>\n",
              "    <tr>\n",
              "      <th>2</th>\n",
              "      <td>im grabbing a minute to post i feel greedy wrong</td>\n",
              "      <td>1</td>\n",
              "      <td>0</td>\n",
              "      <td>0</td>\n",
              "      <td>0</td>\n",
              "      <td>0</td>\n",
              "      <td>0</td>\n",
              "    </tr>\n",
              "    <tr>\n",
              "      <th>3</th>\n",
              "      <td>i am ever feeling nostalgic about the fireplac...</td>\n",
              "      <td>0</td>\n",
              "      <td>0</td>\n",
              "      <td>0</td>\n",
              "      <td>1</td>\n",
              "      <td>0</td>\n",
              "      <td>0</td>\n",
              "    </tr>\n",
              "    <tr>\n",
              "      <th>4</th>\n",
              "      <td>i am feeling grouchy</td>\n",
              "      <td>1</td>\n",
              "      <td>0</td>\n",
              "      <td>0</td>\n",
              "      <td>0</td>\n",
              "      <td>0</td>\n",
              "      <td>0</td>\n",
              "    </tr>\n",
              "    <tr>\n",
              "      <th>...</th>\n",
              "      <td>...</td>\n",
              "      <td>...</td>\n",
              "      <td>...</td>\n",
              "      <td>...</td>\n",
              "      <td>...</td>\n",
              "      <td>...</td>\n",
              "      <td>...</td>\n",
              "    </tr>\n",
              "    <tr>\n",
              "      <th>21454</th>\n",
              "      <td>Melissa stared at her friend in dism</td>\n",
              "      <td>0</td>\n",
              "      <td>1</td>\n",
              "      <td>0</td>\n",
              "      <td>0</td>\n",
              "      <td>0</td>\n",
              "      <td>0</td>\n",
              "    </tr>\n",
              "    <tr>\n",
              "      <th>21455</th>\n",
              "      <td>Successive state elections have seen the gover...</td>\n",
              "      <td>0</td>\n",
              "      <td>1</td>\n",
              "      <td>0</td>\n",
              "      <td>0</td>\n",
              "      <td>0</td>\n",
              "      <td>0</td>\n",
              "    </tr>\n",
              "    <tr>\n",
              "      <th>21456</th>\n",
              "      <td>Vincent was irritated but not dismay</td>\n",
              "      <td>0</td>\n",
              "      <td>1</td>\n",
              "      <td>0</td>\n",
              "      <td>0</td>\n",
              "      <td>0</td>\n",
              "      <td>0</td>\n",
              "    </tr>\n",
              "    <tr>\n",
              "      <th>21457</th>\n",
              "      <td>Kendall-Hume turned back to face the dismayed ...</td>\n",
              "      <td>0</td>\n",
              "      <td>1</td>\n",
              "      <td>0</td>\n",
              "      <td>0</td>\n",
              "      <td>0</td>\n",
              "      <td>0</td>\n",
              "    </tr>\n",
              "    <tr>\n",
              "      <th>21458</th>\n",
              "      <td>I am dismayed , but not surpris</td>\n",
              "      <td>0</td>\n",
              "      <td>1</td>\n",
              "      <td>0</td>\n",
              "      <td>0</td>\n",
              "      <td>0</td>\n",
              "      <td>0</td>\n",
              "    </tr>\n",
              "  </tbody>\n",
              "</table>\n",
              "<p>21459 rows × 7 columns</p>\n",
              "</div>\n",
              "      <button class=\"colab-df-convert\" onclick=\"convertToInteractive('df-368c698e-9202-4c19-9fef-4327b22bc7ec')\"\n",
              "              title=\"Convert this dataframe to an interactive table.\"\n",
              "              style=\"display:none;\">\n",
              "        \n",
              "  <svg xmlns=\"http://www.w3.org/2000/svg\" height=\"24px\"viewBox=\"0 0 24 24\"\n",
              "       width=\"24px\">\n",
              "    <path d=\"M0 0h24v24H0V0z\" fill=\"none\"/>\n",
              "    <path d=\"M18.56 5.44l.94 2.06.94-2.06 2.06-.94-2.06-.94-.94-2.06-.94 2.06-2.06.94zm-11 1L8.5 8.5l.94-2.06 2.06-.94-2.06-.94L8.5 2.5l-.94 2.06-2.06.94zm10 10l.94 2.06.94-2.06 2.06-.94-2.06-.94-.94-2.06-.94 2.06-2.06.94z\"/><path d=\"M17.41 7.96l-1.37-1.37c-.4-.4-.92-.59-1.43-.59-.52 0-1.04.2-1.43.59L10.3 9.45l-7.72 7.72c-.78.78-.78 2.05 0 2.83L4 21.41c.39.39.9.59 1.41.59.51 0 1.02-.2 1.41-.59l7.78-7.78 2.81-2.81c.8-.78.8-2.07 0-2.86zM5.41 20L4 18.59l7.72-7.72 1.47 1.35L5.41 20z\"/>\n",
              "  </svg>\n",
              "      </button>\n",
              "      \n",
              "  <style>\n",
              "    .colab-df-container {\n",
              "      display:flex;\n",
              "      flex-wrap:wrap;\n",
              "      gap: 12px;\n",
              "    }\n",
              "\n",
              "    .colab-df-convert {\n",
              "      background-color: #E8F0FE;\n",
              "      border: none;\n",
              "      border-radius: 50%;\n",
              "      cursor: pointer;\n",
              "      display: none;\n",
              "      fill: #1967D2;\n",
              "      height: 32px;\n",
              "      padding: 0 0 0 0;\n",
              "      width: 32px;\n",
              "    }\n",
              "\n",
              "    .colab-df-convert:hover {\n",
              "      background-color: #E2EBFA;\n",
              "      box-shadow: 0px 1px 2px rgba(60, 64, 67, 0.3), 0px 1px 3px 1px rgba(60, 64, 67, 0.15);\n",
              "      fill: #174EA6;\n",
              "    }\n",
              "\n",
              "    [theme=dark] .colab-df-convert {\n",
              "      background-color: #3B4455;\n",
              "      fill: #D2E3FC;\n",
              "    }\n",
              "\n",
              "    [theme=dark] .colab-df-convert:hover {\n",
              "      background-color: #434B5C;\n",
              "      box-shadow: 0px 1px 3px 1px rgba(0, 0, 0, 0.15);\n",
              "      filter: drop-shadow(0px 1px 2px rgba(0, 0, 0, 0.3));\n",
              "      fill: #FFFFFF;\n",
              "    }\n",
              "  </style>\n",
              "\n",
              "      <script>\n",
              "        const buttonEl =\n",
              "          document.querySelector('#df-368c698e-9202-4c19-9fef-4327b22bc7ec button.colab-df-convert');\n",
              "        buttonEl.style.display =\n",
              "          google.colab.kernel.accessAllowed ? 'block' : 'none';\n",
              "\n",
              "        async function convertToInteractive(key) {\n",
              "          const element = document.querySelector('#df-368c698e-9202-4c19-9fef-4327b22bc7ec');\n",
              "          const dataTable =\n",
              "            await google.colab.kernel.invokeFunction('convertToInteractive',\n",
              "                                                     [key], {});\n",
              "          if (!dataTable) return;\n",
              "\n",
              "          const docLinkHtml = 'Like what you see? Visit the ' +\n",
              "            '<a target=\"_blank\" href=https://colab.research.google.com/notebooks/data_table.ipynb>data table notebook</a>'\n",
              "            + ' to learn more about interactive tables.';\n",
              "          element.innerHTML = '';\n",
              "          dataTable['output_type'] = 'display_data';\n",
              "          await google.colab.output.renderOutput(dataTable, element);\n",
              "          const docLink = document.createElement('div');\n",
              "          docLink.innerHTML = docLinkHtml;\n",
              "          element.appendChild(docLink);\n",
              "        }\n",
              "      </script>\n",
              "    </div>\n",
              "  </div>\n",
              "  "
            ]
          },
          "metadata": {},
          "execution_count": 3
        }
      ]
    },
    {
      "cell_type": "code",
      "source": [
        "len(df_baru)"
      ],
      "metadata": {
        "colab": {
          "base_uri": "https://localhost:8080/"
        },
        "id": "ME_B4J4ztYzm",
        "outputId": "ccd52e53-caf0-43ca-8f56-3ff78399a813"
      },
      "execution_count": 4,
      "outputs": [
        {
          "output_type": "execute_result",
          "data": {
            "text/plain": [
              "21459"
            ]
          },
          "metadata": {},
          "execution_count": 4
        }
      ]
    },
    {
      "cell_type": "code",
      "source": [
        "df_baru['Text'][100]"
      ],
      "metadata": {
        "colab": {
          "base_uri": "https://localhost:8080/",
          "height": 53
        },
        "id": "gKJZxxDpW4yg",
        "outputId": "e6be649c-879c-4e9d-b067-6579291051e7"
      },
      "execution_count": 5,
      "outputs": [
        {
          "output_type": "execute_result",
          "data": {
            "text/plain": [
              "'i wont let me child cry it out because i feel that loving her and lily when she was little was going to be opportunities that only lasted for those short few months'"
            ],
            "application/vnd.google.colaboratory.intrinsic+json": {
              "type": "string"
            }
          },
          "metadata": {},
          "execution_count": 5
        }
      ]
    },
    {
      "cell_type": "code",
      "source": [
        "tweet = df_baru['Text'].values\n",
        "label = df_baru[['anger', 'fear', 'happy', 'love', 'sadness', 'surprise']].values"
      ],
      "metadata": {
        "id": "acxVbN6ItTYJ"
      },
      "execution_count": 6,
      "outputs": []
    },
    {
      "cell_type": "code",
      "source": [
        "from sklearn.model_selection import train_test_split\n",
        "tweet_train, tweet_test, label_train, label_test = train_test_split(tweet, label, test_size=0.2, random_state=32)"
      ],
      "metadata": {
        "id": "tNg0PRLiuvEW"
      },
      "execution_count": 7,
      "outputs": []
    },
    {
      "cell_type": "code",
      "source": [
        "from tensorflow.keras.preprocessing.text import Tokenizer\n",
        "from tensorflow.keras.preprocessing.sequence import pad_sequences\n",
        "import numpy as np\n",
        "\n",
        "tokenizer = Tokenizer(num_words=1000, oov_token='x', lower=False)\n",
        "tokenizer.fit_on_texts(tweet_train)\n",
        "tokenizer.fit_on_texts(tweet_test)\n",
        "\n",
        "sequence_train = tokenizer.texts_to_sequences(tweet_train)\n",
        "sequence_test = tokenizer.texts_to_sequences(tweet_test)\n",
        "\n",
        "padded_train = pad_sequences(sequence_train)\n",
        "padded_test = pad_sequences(sequence_test)"
      ],
      "metadata": {
        "id": "WZD3Xm80vFGu"
      },
      "execution_count": 8,
      "outputs": []
    },
    {
      "cell_type": "code",
      "source": [
        "import tensorflow as tf\n",
        "model = tf.keras.Sequential([\n",
        "    tf.keras.layers.Embedding(input_dim=1000, output_dim=16),\n",
        "    tf.keras.layers.LSTM(512, return_sequences=True),\n",
        "    tf.keras.layers.LSTM(512),\n",
        "    tf.keras.layers.Dropout(0.2),\n",
        "    tf.keras.layers.Dense(1024, activation='relu'),\n",
        "    tf.keras.layers.Dropout(0.2),\n",
        "    tf.keras.layers.Dense(1024, activation='relu'),\n",
        "    tf.keras.layers.Dense(512, activation='relu'),\n",
        "    tf.keras.layers.Dense(64, activation='relu'),\n",
        "    tf.keras.layers.Dense(6, activation='softmax')\n",
        "])\n",
        "model.summary()\n",
        "model.compile(loss='categorical_crossentropy',optimizer='adam',metrics=['accuracy'])"
      ],
      "metadata": {
        "colab": {
          "base_uri": "https://localhost:8080/"
        },
        "id": "fXEbHy9FwZUD",
        "outputId": "4e740152-4d6b-4c82-e21e-b4207cb570db"
      },
      "execution_count": 13,
      "outputs": [
        {
          "output_type": "stream",
          "name": "stdout",
          "text": [
            "Model: \"sequential_2\"\n",
            "_________________________________________________________________\n",
            " Layer (type)                Output Shape              Param #   \n",
            "=================================================================\n",
            " embedding_2 (Embedding)     (None, None, 16)          16000     \n",
            "                                                                 \n",
            " lstm_5 (LSTM)               (None, None, 512)         1083392   \n",
            "                                                                 \n",
            " lstm_6 (LSTM)               (None, 512)               2099200   \n",
            "                                                                 \n",
            " dropout_4 (Dropout)         (None, 512)               0         \n",
            "                                                                 \n",
            " dense_10 (Dense)            (None, 1024)              525312    \n",
            "                                                                 \n",
            " dropout_5 (Dropout)         (None, 1024)              0         \n",
            "                                                                 \n",
            " dense_11 (Dense)            (None, 1024)              1049600   \n",
            "                                                                 \n",
            " dense_12 (Dense)            (None, 512)               524800    \n",
            "                                                                 \n",
            " dense_13 (Dense)            (None, 64)                32832     \n",
            "                                                                 \n",
            " dense_14 (Dense)            (None, 6)                 390       \n",
            "                                                                 \n",
            "=================================================================\n",
            "Total params: 5,331,526\n",
            "Trainable params: 5,331,526\n",
            "Non-trainable params: 0\n",
            "_________________________________________________________________\n"
          ]
        }
      ]
    },
    {
      "cell_type": "code",
      "source": [
        "class myCallbacks(tf.keras.callbacks.Callback):\n",
        "  def on_epoch_end(self, epoch, logs={}):\n",
        "    if(logs.get('accuracy')>0.9 and logs.get('val_accuracy')>0.9):\n",
        "      print('Akurasi Tercapai')\n",
        "      self.model.stop_training = True\n",
        "callback = myCallbacks()"
      ],
      "metadata": {
        "id": "kAeBPdxWyjp1"
      },
      "execution_count": 10,
      "outputs": []
    },
    {
      "cell_type": "code",
      "source": [
        "history = model.fit(\n",
        "    padded_train, \n",
        "    label_train, \n",
        "    epochs=50, \n",
        "    validation_data=(padded_test, label_test), \n",
        "    verbose=2,\n",
        "    batch_size=256,\n",
        "    callbacks=[callback]\n",
        "    )"
      ],
      "metadata": {
        "colab": {
          "base_uri": "https://localhost:8080/"
        },
        "id": "A3HM4YJHy5KD",
        "outputId": "de999e1f-4f27-4c32-9ad1-399811b8b267"
      },
      "execution_count": 15,
      "outputs": [
        {
          "output_type": "stream",
          "name": "stdout",
          "text": [
            "Epoch 1/50\n",
            "68/68 - 8s - loss: 1.6013 - accuracy: 0.3236 - val_loss: 1.5412 - val_accuracy: 0.3260 - 8s/epoch - 114ms/step\n",
            "Epoch 2/50\n",
            "68/68 - 7s - loss: 1.3511 - accuracy: 0.3785 - val_loss: 1.2731 - val_accuracy: 0.3959 - 7s/epoch - 103ms/step\n",
            "Epoch 3/50\n",
            "68/68 - 7s - loss: 1.1714 - accuracy: 0.4492 - val_loss: 1.1110 - val_accuracy: 0.5193 - 7s/epoch - 104ms/step\n",
            "Epoch 4/50\n",
            "68/68 - 7s - loss: 1.0296 - accuracy: 0.5765 - val_loss: 1.0631 - val_accuracy: 0.6018 - 7s/epoch - 107ms/step\n",
            "Epoch 5/50\n",
            "68/68 - 7s - loss: 0.9069 - accuracy: 0.6455 - val_loss: 0.8861 - val_accuracy: 0.6493 - 7s/epoch - 108ms/step\n",
            "Epoch 6/50\n",
            "68/68 - 7s - loss: 0.8235 - accuracy: 0.6879 - val_loss: 0.7723 - val_accuracy: 0.7411 - 7s/epoch - 108ms/step\n",
            "Epoch 7/50\n",
            "68/68 - 7s - loss: 0.7294 - accuracy: 0.7466 - val_loss: 0.6653 - val_accuracy: 0.7780 - 7s/epoch - 109ms/step\n",
            "Epoch 8/50\n",
            "68/68 - 8s - loss: 0.6186 - accuracy: 0.7896 - val_loss: 0.7495 - val_accuracy: 0.7407 - 8s/epoch - 111ms/step\n",
            "Epoch 9/50\n",
            "68/68 - 8s - loss: 0.5914 - accuracy: 0.7955 - val_loss: 0.6676 - val_accuracy: 0.7607 - 8s/epoch - 114ms/step\n",
            "Epoch 10/50\n",
            "68/68 - 8s - loss: 0.5483 - accuracy: 0.8064 - val_loss: 0.6133 - val_accuracy: 0.8043 - 8s/epoch - 117ms/step\n",
            "Epoch 11/50\n",
            "68/68 - 8s - loss: 0.4975 - accuracy: 0.8219 - val_loss: 0.5416 - val_accuracy: 0.8073 - 8s/epoch - 118ms/step\n",
            "Epoch 12/50\n",
            "68/68 - 8s - loss: 0.4601 - accuracy: 0.8304 - val_loss: 0.5929 - val_accuracy: 0.8050 - 8s/epoch - 116ms/step\n",
            "Epoch 13/50\n",
            "68/68 - 8s - loss: 0.4490 - accuracy: 0.8307 - val_loss: 0.5290 - val_accuracy: 0.8159 - 8s/epoch - 114ms/step\n",
            "Epoch 14/50\n",
            "68/68 - 8s - loss: 0.4296 - accuracy: 0.8359 - val_loss: 0.4943 - val_accuracy: 0.8178 - 8s/epoch - 113ms/step\n",
            "Epoch 15/50\n",
            "68/68 - 8s - loss: 0.4314 - accuracy: 0.8341 - val_loss: 0.5172 - val_accuracy: 0.8171 - 8s/epoch - 112ms/step\n",
            "Epoch 16/50\n",
            "68/68 - 8s - loss: 0.4162 - accuracy: 0.8406 - val_loss: 0.4914 - val_accuracy: 0.8131 - 8s/epoch - 112ms/step\n",
            "Epoch 17/50\n",
            "68/68 - 8s - loss: 0.3959 - accuracy: 0.8469 - val_loss: 0.4709 - val_accuracy: 0.8197 - 8s/epoch - 112ms/step\n",
            "Epoch 18/50\n",
            "68/68 - 8s - loss: 0.3745 - accuracy: 0.8502 - val_loss: 0.4896 - val_accuracy: 0.8248 - 8s/epoch - 112ms/step\n",
            "Epoch 19/50\n",
            "68/68 - 8s - loss: 0.3759 - accuracy: 0.8519 - val_loss: 0.5245 - val_accuracy: 0.8278 - 8s/epoch - 113ms/step\n",
            "Epoch 20/50\n",
            "68/68 - 8s - loss: 0.3740 - accuracy: 0.8526 - val_loss: 0.4848 - val_accuracy: 0.8283 - 8s/epoch - 114ms/step\n",
            "Epoch 21/50\n",
            "68/68 - 8s - loss: 0.3517 - accuracy: 0.8559 - val_loss: 0.4565 - val_accuracy: 0.8304 - 8s/epoch - 114ms/step\n",
            "Epoch 22/50\n",
            "68/68 - 8s - loss: 0.3513 - accuracy: 0.8588 - val_loss: 0.4717 - val_accuracy: 0.8297 - 8s/epoch - 114ms/step\n",
            "Epoch 23/50\n",
            "68/68 - 8s - loss: 0.3313 - accuracy: 0.8633 - val_loss: 0.4734 - val_accuracy: 0.8250 - 8s/epoch - 114ms/step\n",
            "Epoch 24/50\n",
            "68/68 - 8s - loss: 0.3447 - accuracy: 0.8608 - val_loss: 0.4949 - val_accuracy: 0.8264 - 8s/epoch - 114ms/step\n",
            "Epoch 25/50\n",
            "68/68 - 8s - loss: 0.3299 - accuracy: 0.8633 - val_loss: 0.4884 - val_accuracy: 0.8183 - 8s/epoch - 114ms/step\n",
            "Epoch 26/50\n",
            "68/68 - 8s - loss: 0.3337 - accuracy: 0.8661 - val_loss: 0.4722 - val_accuracy: 0.8283 - 8s/epoch - 113ms/step\n",
            "Epoch 27/50\n",
            "68/68 - 8s - loss: 0.3360 - accuracy: 0.8649 - val_loss: 0.4938 - val_accuracy: 0.8194 - 8s/epoch - 113ms/step\n",
            "Epoch 28/50\n",
            "68/68 - 8s - loss: 0.3055 - accuracy: 0.8739 - val_loss: 0.5047 - val_accuracy: 0.8320 - 8s/epoch - 113ms/step\n",
            "Epoch 29/50\n",
            "68/68 - 8s - loss: 0.3047 - accuracy: 0.8741 - val_loss: 0.5427 - val_accuracy: 0.8208 - 8s/epoch - 113ms/step\n",
            "Epoch 30/50\n",
            "68/68 - 8s - loss: 0.3065 - accuracy: 0.8751 - val_loss: 0.5209 - val_accuracy: 0.8269 - 8s/epoch - 113ms/step\n",
            "Epoch 31/50\n",
            "68/68 - 8s - loss: 0.2901 - accuracy: 0.8819 - val_loss: 0.5543 - val_accuracy: 0.8350 - 8s/epoch - 113ms/step\n",
            "Epoch 32/50\n",
            "68/68 - 8s - loss: 0.2963 - accuracy: 0.8797 - val_loss: 0.5006 - val_accuracy: 0.8299 - 8s/epoch - 113ms/step\n",
            "Epoch 33/50\n",
            "68/68 - 8s - loss: 0.3118 - accuracy: 0.8739 - val_loss: 0.5291 - val_accuracy: 0.8308 - 8s/epoch - 114ms/step\n",
            "Epoch 34/50\n",
            "68/68 - 8s - loss: 0.2821 - accuracy: 0.8845 - val_loss: 0.5169 - val_accuracy: 0.8257 - 8s/epoch - 114ms/step\n",
            "Epoch 35/50\n",
            "68/68 - 8s - loss: 0.3077 - accuracy: 0.8760 - val_loss: 0.5217 - val_accuracy: 0.8257 - 8s/epoch - 114ms/step\n",
            "Epoch 36/50\n",
            "68/68 - 8s - loss: 0.2829 - accuracy: 0.8821 - val_loss: 0.5039 - val_accuracy: 0.8225 - 8s/epoch - 114ms/step\n",
            "Epoch 37/50\n",
            "68/68 - 8s - loss: 0.2726 - accuracy: 0.8881 - val_loss: 0.5025 - val_accuracy: 0.8162 - 8s/epoch - 114ms/step\n",
            "Epoch 38/50\n",
            "68/68 - 8s - loss: 0.2607 - accuracy: 0.8942 - val_loss: 0.5072 - val_accuracy: 0.8283 - 8s/epoch - 114ms/step\n",
            "Epoch 39/50\n",
            "68/68 - 8s - loss: 0.2510 - accuracy: 0.8981 - val_loss: 0.5662 - val_accuracy: 0.8206 - 8s/epoch - 114ms/step\n",
            "Epoch 40/50\n",
            "68/68 - 8s - loss: 0.2967 - accuracy: 0.8845 - val_loss: 0.5547 - val_accuracy: 0.8243 - 8s/epoch - 114ms/step\n",
            "Epoch 41/50\n",
            "68/68 - 8s - loss: 0.2590 - accuracy: 0.8940 - val_loss: 0.5590 - val_accuracy: 0.8332 - 8s/epoch - 114ms/step\n",
            "Epoch 42/50\n",
            "68/68 - 8s - loss: 0.2462 - accuracy: 0.9004 - val_loss: 0.5549 - val_accuracy: 0.8262 - 8s/epoch - 114ms/step\n",
            "Epoch 43/50\n",
            "68/68 - 8s - loss: 0.2427 - accuracy: 0.9030 - val_loss: 0.5802 - val_accuracy: 0.8288 - 8s/epoch - 114ms/step\n",
            "Epoch 44/50\n",
            "68/68 - 8s - loss: 0.2293 - accuracy: 0.9066 - val_loss: 0.5480 - val_accuracy: 0.8301 - 8s/epoch - 114ms/step\n",
            "Epoch 45/50\n",
            "68/68 - 8s - loss: 0.2233 - accuracy: 0.9098 - val_loss: 0.5472 - val_accuracy: 0.8208 - 8s/epoch - 114ms/step\n",
            "Epoch 46/50\n",
            "68/68 - 8s - loss: 0.2428 - accuracy: 0.9040 - val_loss: 0.6036 - val_accuracy: 0.8248 - 8s/epoch - 114ms/step\n",
            "Epoch 47/50\n",
            "68/68 - 8s - loss: 0.2170 - accuracy: 0.9107 - val_loss: 0.5905 - val_accuracy: 0.8241 - 8s/epoch - 113ms/step\n",
            "Epoch 48/50\n",
            "68/68 - 8s - loss: 0.2202 - accuracy: 0.9096 - val_loss: 0.6521 - val_accuracy: 0.8248 - 8s/epoch - 114ms/step\n",
            "Epoch 49/50\n",
            "68/68 - 8s - loss: 0.2037 - accuracy: 0.9179 - val_loss: 0.6115 - val_accuracy: 0.8262 - 8s/epoch - 114ms/step\n",
            "Epoch 50/50\n",
            "68/68 - 8s - loss: 0.2071 - accuracy: 0.9178 - val_loss: 0.6301 - val_accuracy: 0.8267 - 8s/epoch - 113ms/step\n"
          ]
        }
      ]
    },
    {
      "cell_type": "code",
      "source": [
        "import matplotlib.pyplot as plt\n",
        "plt.plot(history.history['accuracy'])\n",
        "plt.plot(history.history['val_accuracy'])\n",
        "plt.title('Akurasi Model')\n",
        "plt.ylabel('accuracy')\n",
        "plt.xlabel('epoch')\n",
        "plt.legend(['train', 'test'], loc='upper left')\n",
        "plt.show()"
      ],
      "metadata": {
        "colab": {
          "base_uri": "https://localhost:8080/",
          "height": 295
        },
        "id": "v9BmJkyoP-P-",
        "outputId": "5dd03082-6d35-4985-bb44-8b65f5f4ce89"
      },
      "execution_count": 16,
      "outputs": [
        {
          "output_type": "display_data",
          "data": {
            "text/plain": [
              "<Figure size 432x288 with 1 Axes>"
            ],
            "image/png": "[encoded data removed]"
          },
          "metadata": {
            "needs_background": "light"
          }
        }
      ]
    },
    {
      "cell_type": "code",
      "source": [
        "plt.plot(history.history['loss'])\n",
        "plt.plot(history.history['val_loss'])\n",
        "plt.title('Loss Model')\n",
        "plt.ylabel('loss')\n",
        "plt.xlabel('epoch')\n",
        "plt.legend(['train', 'test'], loc='upper left')\n",
        "plt.show()"
      ],
      "metadata": {
        "colab": {
          "base_uri": "https://localhost:8080/",
          "height": 295
        },
        "id": "GVUXmw4pQAyu",
        "outputId": "dd494176-3a1f-4064-cd5d-c0e28a172e96"
      },
      "execution_count": 17,
      "outputs": [
        {
          "output_type": "display_data",
          "data": {
            "text/plain": [
              "<Figure size 432x288 with 1 Axes>"
            ],
            "image/png": "[encoded data removed]"
          },
          "metadata": {
            "needs_background": "light"
          }
        }
      ]
    }
  ]
}